{
  "nbformat": 4,
  "nbformat_minor": 2,
  "metadata": {
    "colab": {
      "name": "C9149-Sedat- Statistics Assignment's Answers-2.ipynb ",
      "provenance": [],
      "collapsed_sections": []
    },
    "kernelspec": {
      "name": "python3",
      "display_name": "Python 3.8.8 64-bit ('base': conda)"
    },
    "language_info": {
      "name": "python",
      "version": "3.8.8",
      "mimetype": "text/x-python",
      "codemirror_mode": {
        "name": "ipython",
        "version": 3
      },
      "pygments_lexer": "ipython3",
      "nbconvert_exporter": "python",
      "file_extension": ".py"
    },
    "interpreter": {
      "hash": "b9ed21ce3e79e551a27a11d2551dd0fb060a3f4c5f44a14454b2145fe2b135cb"
    }
  },
  "cells": [
    {
      "cell_type": "markdown",
      "source": [
        "## Descriptive Statistics"
      ],
      "metadata": {
        "id": "K7S4cEyZLTp7"
      }
    },
    {
      "cell_type": "code",
      "execution_count": null,
      "source": [],
      "outputs": [],
      "metadata": {
        "id": "CCZJzVnVT8bw"
      }
    },
    {
      "cell_type": "markdown",
      "source": [
        " Import **NumPy**, **SciPy**, and **Pandas**"
      ],
      "metadata": {
        "id": "vZRYVyc8H7hi"
      }
    },
    {
      "cell_type": "code",
      "execution_count": 35,
      "source": [
        "import numpy as np\r\n",
        "from scipy import stats\r\n",
        "import pandas as pd\r\n"
      ],
      "outputs": [],
      "metadata": {
        "id": "7ShN0klrHIk3"
      }
    },
    {
      "cell_type": "markdown",
      "source": [
        " Randomly generate 1,000 samples from the normal distribution using `np.random.normal()`(mean = 100, standard deviation = 15)"
      ],
      "metadata": {
        "id": "_SaQURIqIA6d"
      }
    },
    {
      "cell_type": "code",
      "execution_count": 19,
      "source": [
        "samples = np.random.normal(100,15,1000)"
      ],
      "outputs": [],
      "metadata": {
        "id": "Jyw_FMX0IRkm"
      }
    },
    {
      "cell_type": "markdown",
      "source": [
        "Compute the **mean**, **median**, and **mode**"
      ],
      "metadata": {
        "id": "CDF8m3a4IYOC"
      }
    },
    {
      "cell_type": "code",
      "execution_count": 21,
      "source": [
        "mean = np.mean(samples)\r\n",
        "mean\r\n"
      ],
      "outputs": [
        {
          "output_type": "execute_result",
          "data": {
            "text/plain": [
              "99.84006258528028"
            ]
          },
          "metadata": {},
          "execution_count": 21
        }
      ],
      "metadata": {
        "id": "ZKbeqxaKIoNs"
      }
    },
    {
      "cell_type": "code",
      "execution_count": 22,
      "source": [
        "median = np.median(samples)\r\n",
        "median"
      ],
      "outputs": [
        {
          "output_type": "execute_result",
          "data": {
            "text/plain": [
              "100.36052457339514"
            ]
          },
          "metadata": {},
          "execution_count": 22
        }
      ],
      "metadata": {}
    },
    {
      "cell_type": "code",
      "execution_count": 33,
      "source": [
        "a = stats.mode(samples)\r\n",
        "a"
      ],
      "outputs": [
        {
          "output_type": "execute_result",
          "data": {
            "text/plain": [
              "ModeResult(mode=array([36.75240714]), count=array([1]))"
            ]
          },
          "metadata": {},
          "execution_count": 33
        }
      ],
      "metadata": {}
    },
    {
      "cell_type": "markdown",
      "source": [
        "Compute the **min**, **max**, **Q1**, **Q3**, and **interquartile range**"
      ],
      "metadata": {
        "id": "skT8m39XI60w"
      }
    },
    {
      "cell_type": "code",
      "execution_count": 58,
      "source": [
        "stats.describe(samples)"
      ],
      "outputs": [
        {
          "output_type": "execute_result",
          "data": {
            "text/plain": [
              "DescribeResult(nobs=1000, minmax=(36.75240714246372, 138.51335195690444), mean=99.84006258528028, variance=227.74429199033693, skewness=-0.24458560864920129, kurtosis=0.051361819336270376)"
            ]
          },
          "metadata": {},
          "execution_count": 58
        }
      ],
      "metadata": {}
    },
    {
      "cell_type": "code",
      "execution_count": 26,
      "source": [
        "min_ = np.min(samples)\r\n",
        "min_"
      ],
      "outputs": [
        {
          "output_type": "execute_result",
          "data": {
            "text/plain": [
              "36.75240714246372"
            ]
          },
          "metadata": {},
          "execution_count": 26
        }
      ],
      "metadata": {}
    },
    {
      "cell_type": "code",
      "execution_count": 27,
      "source": [
        "max_ = np.max(samples)\r\n",
        "max_"
      ],
      "outputs": [
        {
          "output_type": "execute_result",
          "data": {
            "text/plain": [
              "138.51335195690444"
            ]
          },
          "metadata": {},
          "execution_count": 27
        }
      ],
      "metadata": {}
    },
    {
      "cell_type": "code",
      "execution_count": 40,
      "source": [
        "q1 = np.percentile(samples, 25)\r\n",
        "q1"
      ],
      "outputs": [
        {
          "output_type": "execute_result",
          "data": {
            "text/plain": [
              "89.9325090824205"
            ]
          },
          "metadata": {},
          "execution_count": 40
        }
      ],
      "metadata": {}
    },
    {
      "cell_type": "code",
      "execution_count": 46,
      "source": [
        "q2 = np.percentile(samples, 50)\r\n",
        "q2"
      ],
      "outputs": [
        {
          "output_type": "execute_result",
          "data": {
            "text/plain": [
              "100.36052457339514"
            ]
          },
          "metadata": {},
          "execution_count": 46
        }
      ],
      "metadata": {}
    },
    {
      "cell_type": "code",
      "execution_count": 42,
      "source": [
        "q3 = np.percentile(samples, 75)\r\n",
        "q3"
      ],
      "outputs": [
        {
          "output_type": "execute_result",
          "data": {
            "text/plain": [
              "110.50315477440476"
            ]
          },
          "metadata": {},
          "execution_count": 42
        }
      ],
      "metadata": {}
    },
    {
      "cell_type": "code",
      "execution_count": 44,
      "source": [
        "iqr = q3 - q1\r\n",
        "iqr"
      ],
      "outputs": [
        {
          "output_type": "execute_result",
          "data": {
            "text/plain": [
              "20.570645691984268"
            ]
          },
          "metadata": {},
          "execution_count": 44
        }
      ],
      "metadata": {
        "id": "VaiDphm8It0O"
      }
    },
    {
      "cell_type": "code",
      "execution_count": 52,
      "source": [
        "stats.iqr(samples)"
      ],
      "outputs": [
        {
          "output_type": "execute_result",
          "data": {
            "text/plain": [
              "20.570645691984268"
            ]
          },
          "metadata": {},
          "execution_count": 52
        }
      ],
      "metadata": {}
    },
    {
      "cell_type": "markdown",
      "source": [
        "Compute the **variance** and **standard deviation**"
      ],
      "metadata": {
        "id": "m53Dv3n5JHQi"
      }
    },
    {
      "cell_type": "code",
      "execution_count": 50,
      "source": [
        "variance = np.var(samples)\r\n",
        "variance\r\n"
      ],
      "outputs": [
        {
          "output_type": "execute_result",
          "data": {
            "text/plain": [
              "227.5165476983466"
            ]
          },
          "metadata": {},
          "execution_count": 50
        }
      ],
      "metadata": {
        "id": "6JFaAYdrJbeN"
      }
    },
    {
      "cell_type": "code",
      "execution_count": 51,
      "source": [
        "std_dev = np.std(samples)\r\n",
        "std_dev"
      ],
      "outputs": [
        {
          "output_type": "execute_result",
          "data": {
            "text/plain": [
              "15.083651669882416"
            ]
          },
          "metadata": {},
          "execution_count": 51
        }
      ],
      "metadata": {}
    },
    {
      "cell_type": "markdown",
      "source": [
        "Compute the **skewness** and **kurtosis**"
      ],
      "metadata": {
        "id": "5eup4hI1JzqX"
      }
    },
    {
      "cell_type": "code",
      "execution_count": 48,
      "source": [
        "skewness = stats.skew(samples)\r\n",
        "skewness\r\n"
      ],
      "outputs": [
        {
          "output_type": "execute_result",
          "data": {
            "text/plain": [
              "-0.24458560864920129"
            ]
          },
          "metadata": {},
          "execution_count": 48
        }
      ],
      "metadata": {
        "id": "YO3obyDnJ3_D"
      }
    },
    {
      "cell_type": "code",
      "execution_count": 59,
      "source": [
        "kurtosis = stats.kurtosis(samples)\r\n",
        "kurtosis"
      ],
      "outputs": [
        {
          "output_type": "execute_result",
          "data": {
            "text/plain": [
              "0.051361819336270376"
            ]
          },
          "metadata": {},
          "execution_count": 59
        }
      ],
      "metadata": {}
    },
    {
      "cell_type": "markdown",
      "source": [
        "## NumPy Correlation Calculation"
      ],
      "metadata": {
        "id": "a5UNc8PUKnbU"
      }
    },
    {
      "cell_type": "markdown",
      "source": [
        "Create an array x of integers between 10 (inclusive) and 20 (exclusive). Use `np.arange()`"
      ],
      "metadata": {
        "id": "cLiqxE1CMNTg"
      }
    },
    {
      "cell_type": "code",
      "execution_count": 61,
      "source": [
        "x = np.arange(10,20)\r\n",
        "x"
      ],
      "outputs": [
        {
          "output_type": "execute_result",
          "data": {
            "text/plain": [
              "array([10, 11, 12, 13, 14, 15, 16, 17, 18, 19])"
            ]
          },
          "metadata": {},
          "execution_count": 61
        }
      ],
      "metadata": {
        "id": "5LAaQ6w5L-2L"
      }
    },
    {
      "cell_type": "markdown",
      "source": [
        "Then use `np.array()` to create a second array y containing 10 arbitrary integers."
      ],
      "metadata": {
        "id": "qyCIaukNMZPf"
      }
    },
    {
      "cell_type": "code",
      "execution_count": 79,
      "source": [
        "y = np.array([2, 1, 4, 5, 8, 12, 18, 25, 96, 48])\r\n",
        "y"
      ],
      "outputs": [
        {
          "output_type": "execute_result",
          "data": {
            "text/plain": [
              "array([ 2,  1,  4,  5,  8, 12, 18, 25, 96, 48])"
            ]
          },
          "metadata": {},
          "execution_count": 79
        }
      ],
      "metadata": {
        "id": "p27eW__gNMdh"
      }
    },
    {
      "cell_type": "markdown",
      "source": [
        "Once you have two arrays of the same length, you can compute the **correlation coefficient** between x and y"
      ],
      "metadata": {
        "id": "Kh_VeKwINSqS"
      }
    },
    {
      "cell_type": "code",
      "execution_count": 80,
      "source": [
        "r = np.corrcoef(x,y)\r\n",
        "r"
      ],
      "outputs": [
        {
          "output_type": "execute_result",
          "data": {
            "text/plain": [
              "array([[1.        , 0.75864029],\n",
              "       [0.75864029, 1.        ]])"
            ]
          },
          "metadata": {},
          "execution_count": 80
        }
      ],
      "metadata": {
        "id": "yrtC6rPkNSDC"
      }
    },
    {
      "cell_type": "markdown",
      "source": [
        "## Pandas Correlation Calculation"
      ],
      "metadata": {
        "id": "vXieLjYiNtPi"
      }
    },
    {
      "cell_type": "markdown",
      "source": [
        "Run the code below"
      ],
      "metadata": {
        "id": "z56t0k0qNvkr"
      }
    },
    {
      "cell_type": "code",
      "execution_count": 68,
      "source": [
        "x = pd.Series(range(10, 20))\r\n",
        "y = pd.Series([2, 1, 4, 5, 8, 12, 18, 25, 96, 48])"
      ],
      "outputs": [],
      "metadata": {
        "id": "9AVBMJCyNuwb"
      }
    },
    {
      "cell_type": "code",
      "execution_count": 100,
      "source": [
        "xy = pd.DataFrame([x,y]).T\r\n",
        "xy.columns=[\"X\",\"Y\"]\r\n",
        "xy"
      ],
      "outputs": [
        {
          "output_type": "execute_result",
          "data": {
            "text/html": [
              "<div>\n",
              "<style scoped>\n",
              "    .dataframe tbody tr th:only-of-type {\n",
              "        vertical-align: middle;\n",
              "    }\n",
              "\n",
              "    .dataframe tbody tr th {\n",
              "        vertical-align: top;\n",
              "    }\n",
              "\n",
              "    .dataframe thead th {\n",
              "        text-align: right;\n",
              "    }\n",
              "</style>\n",
              "<table border=\"1\" class=\"dataframe\">\n",
              "  <thead>\n",
              "    <tr style=\"text-align: right;\">\n",
              "      <th></th>\n",
              "      <th>X</th>\n",
              "      <th>Y</th>\n",
              "    </tr>\n",
              "  </thead>\n",
              "  <tbody>\n",
              "    <tr>\n",
              "      <th>0</th>\n",
              "      <td>10</td>\n",
              "      <td>2</td>\n",
              "    </tr>\n",
              "    <tr>\n",
              "      <th>1</th>\n",
              "      <td>11</td>\n",
              "      <td>1</td>\n",
              "    </tr>\n",
              "    <tr>\n",
              "      <th>2</th>\n",
              "      <td>12</td>\n",
              "      <td>4</td>\n",
              "    </tr>\n",
              "    <tr>\n",
              "      <th>3</th>\n",
              "      <td>13</td>\n",
              "      <td>5</td>\n",
              "    </tr>\n",
              "    <tr>\n",
              "      <th>4</th>\n",
              "      <td>14</td>\n",
              "      <td>8</td>\n",
              "    </tr>\n",
              "    <tr>\n",
              "      <th>5</th>\n",
              "      <td>15</td>\n",
              "      <td>12</td>\n",
              "    </tr>\n",
              "    <tr>\n",
              "      <th>6</th>\n",
              "      <td>16</td>\n",
              "      <td>18</td>\n",
              "    </tr>\n",
              "    <tr>\n",
              "      <th>7</th>\n",
              "      <td>17</td>\n",
              "      <td>25</td>\n",
              "    </tr>\n",
              "    <tr>\n",
              "      <th>8</th>\n",
              "      <td>18</td>\n",
              "      <td>96</td>\n",
              "    </tr>\n",
              "    <tr>\n",
              "      <th>9</th>\n",
              "      <td>19</td>\n",
              "      <td>48</td>\n",
              "    </tr>\n",
              "  </tbody>\n",
              "</table>\n",
              "</div>"
            ],
            "text/plain": [
              "    X   Y\n",
              "0  10   2\n",
              "1  11   1\n",
              "2  12   4\n",
              "3  13   5\n",
              "4  14   8\n",
              "5  15  12\n",
              "6  16  18\n",
              "7  17  25\n",
              "8  18  96\n",
              "9  19  48"
            ]
          },
          "metadata": {},
          "execution_count": 100
        }
      ],
      "metadata": {}
    },
    {
      "cell_type": "markdown",
      "source": [
        "Call the relevant method  to calculate Pearson's r correlation."
      ],
      "metadata": {
        "id": "ZajVXYe2OCih"
      }
    },
    {
      "cell_type": "code",
      "execution_count": 103,
      "source": [
        "xy.corr()"
      ],
      "outputs": [
        {
          "output_type": "execute_result",
          "data": {
            "text/html": [
              "<div>\n",
              "<style scoped>\n",
              "    .dataframe tbody tr th:only-of-type {\n",
              "        vertical-align: middle;\n",
              "    }\n",
              "\n",
              "    .dataframe tbody tr th {\n",
              "        vertical-align: top;\n",
              "    }\n",
              "\n",
              "    .dataframe thead th {\n",
              "        text-align: right;\n",
              "    }\n",
              "</style>\n",
              "<table border=\"1\" class=\"dataframe\">\n",
              "  <thead>\n",
              "    <tr style=\"text-align: right;\">\n",
              "      <th></th>\n",
              "      <th>X</th>\n",
              "      <th>Y</th>\n",
              "    </tr>\n",
              "  </thead>\n",
              "  <tbody>\n",
              "    <tr>\n",
              "      <th>X</th>\n",
              "      <td>1.00000</td>\n",
              "      <td>0.75864</td>\n",
              "    </tr>\n",
              "    <tr>\n",
              "      <th>Y</th>\n",
              "      <td>0.75864</td>\n",
              "      <td>1.00000</td>\n",
              "    </tr>\n",
              "  </tbody>\n",
              "</table>\n",
              "</div>"
            ],
            "text/plain": [
              "         X        Y\n",
              "X  1.00000  0.75864\n",
              "Y  0.75864  1.00000"
            ]
          },
          "metadata": {},
          "execution_count": 103
        }
      ],
      "metadata": {}
    },
    {
      "cell_type": "code",
      "execution_count": 73,
      "source": [
        "r,p = stats.pearsonr(x,y)\r\n",
        "r"
      ],
      "outputs": [
        {
          "output_type": "execute_result",
          "data": {
            "text/plain": [
              "0.7586402890911869"
            ]
          },
          "metadata": {},
          "execution_count": 73
        }
      ],
      "metadata": {
        "id": "Ak_rkzbLOafj"
      }
    },
    {
      "cell_type": "markdown",
      "source": [
        "OPTIONAL. Call the relevant method to calculate Spearman's rho correlation."
      ],
      "metadata": {
        "id": "1CygSbnROb9V"
      }
    },
    {
      "cell_type": "code",
      "execution_count": 104,
      "source": [
        "xy.corr(method=\"spearman\")"
      ],
      "outputs": [
        {
          "output_type": "execute_result",
          "data": {
            "text/html": [
              "<div>\n",
              "<style scoped>\n",
              "    .dataframe tbody tr th:only-of-type {\n",
              "        vertical-align: middle;\n",
              "    }\n",
              "\n",
              "    .dataframe tbody tr th {\n",
              "        vertical-align: top;\n",
              "    }\n",
              "\n",
              "    .dataframe thead th {\n",
              "        text-align: right;\n",
              "    }\n",
              "</style>\n",
              "<table border=\"1\" class=\"dataframe\">\n",
              "  <thead>\n",
              "    <tr style=\"text-align: right;\">\n",
              "      <th></th>\n",
              "      <th>X</th>\n",
              "      <th>Y</th>\n",
              "    </tr>\n",
              "  </thead>\n",
              "  <tbody>\n",
              "    <tr>\n",
              "      <th>X</th>\n",
              "      <td>1.000000</td>\n",
              "      <td>0.975758</td>\n",
              "    </tr>\n",
              "    <tr>\n",
              "      <th>Y</th>\n",
              "      <td>0.975758</td>\n",
              "      <td>1.000000</td>\n",
              "    </tr>\n",
              "  </tbody>\n",
              "</table>\n",
              "</div>"
            ],
            "text/plain": [
              "          X         Y\n",
              "X  1.000000  0.975758\n",
              "Y  0.975758  1.000000"
            ]
          },
          "metadata": {},
          "execution_count": 104
        }
      ],
      "metadata": {}
    },
    {
      "cell_type": "code",
      "execution_count": 74,
      "source": [
        "rho = stats.spearmanr(x,y)\r\n",
        "rho"
      ],
      "outputs": [
        {
          "output_type": "execute_result",
          "data": {
            "text/plain": [
              "SpearmanrResult(correlation=0.9757575757575757, pvalue=1.4675461874042197e-06)"
            ]
          },
          "metadata": {},
          "execution_count": 74
        }
      ],
      "metadata": {
        "id": "xp_QkXwmOlYY"
      }
    },
    {
      "cell_type": "markdown",
      "source": [
        "## Seaborn Dataset Tips"
      ],
      "metadata": {
        "id": "we7pg7kdOo7y"
      }
    },
    {
      "cell_type": "markdown",
      "source": [
        "Import Seaborn Library"
      ],
      "metadata": {
        "id": "VlzgFKN7OvqX"
      }
    },
    {
      "cell_type": "code",
      "execution_count": 69,
      "source": [
        "import seaborn as sns"
      ],
      "outputs": [],
      "metadata": {
        "id": "t-49JRRqO4pw"
      }
    },
    {
      "cell_type": "markdown",
      "source": [
        "Load \"tips\" dataset from Seaborn"
      ],
      "metadata": {
        "id": "0INVBB4tO4y4"
      }
    },
    {
      "cell_type": "code",
      "execution_count": 75,
      "source": [
        "tips = sns.load_dataset(\"tips\")"
      ],
      "outputs": [],
      "metadata": {
        "id": "kieLvcM1PBv7"
      }
    },
    {
      "cell_type": "code",
      "execution_count": 77,
      "source": [
        "tips"
      ],
      "outputs": [
        {
          "output_type": "execute_result",
          "data": {
            "text/html": [
              "<div>\n",
              "<style scoped>\n",
              "    .dataframe tbody tr th:only-of-type {\n",
              "        vertical-align: middle;\n",
              "    }\n",
              "\n",
              "    .dataframe tbody tr th {\n",
              "        vertical-align: top;\n",
              "    }\n",
              "\n",
              "    .dataframe thead th {\n",
              "        text-align: right;\n",
              "    }\n",
              "</style>\n",
              "<table border=\"1\" class=\"dataframe\">\n",
              "  <thead>\n",
              "    <tr style=\"text-align: right;\">\n",
              "      <th></th>\n",
              "      <th>total_bill</th>\n",
              "      <th>tip</th>\n",
              "      <th>sex</th>\n",
              "      <th>smoker</th>\n",
              "      <th>day</th>\n",
              "      <th>time</th>\n",
              "      <th>size</th>\n",
              "    </tr>\n",
              "  </thead>\n",
              "  <tbody>\n",
              "    <tr>\n",
              "      <th>0</th>\n",
              "      <td>16.99</td>\n",
              "      <td>1.01</td>\n",
              "      <td>Female</td>\n",
              "      <td>No</td>\n",
              "      <td>Sun</td>\n",
              "      <td>Dinner</td>\n",
              "      <td>2</td>\n",
              "    </tr>\n",
              "    <tr>\n",
              "      <th>1</th>\n",
              "      <td>10.34</td>\n",
              "      <td>1.66</td>\n",
              "      <td>Male</td>\n",
              "      <td>No</td>\n",
              "      <td>Sun</td>\n",
              "      <td>Dinner</td>\n",
              "      <td>3</td>\n",
              "    </tr>\n",
              "    <tr>\n",
              "      <th>2</th>\n",
              "      <td>21.01</td>\n",
              "      <td>3.50</td>\n",
              "      <td>Male</td>\n",
              "      <td>No</td>\n",
              "      <td>Sun</td>\n",
              "      <td>Dinner</td>\n",
              "      <td>3</td>\n",
              "    </tr>\n",
              "    <tr>\n",
              "      <th>3</th>\n",
              "      <td>23.68</td>\n",
              "      <td>3.31</td>\n",
              "      <td>Male</td>\n",
              "      <td>No</td>\n",
              "      <td>Sun</td>\n",
              "      <td>Dinner</td>\n",
              "      <td>2</td>\n",
              "    </tr>\n",
              "    <tr>\n",
              "      <th>4</th>\n",
              "      <td>24.59</td>\n",
              "      <td>3.61</td>\n",
              "      <td>Female</td>\n",
              "      <td>No</td>\n",
              "      <td>Sun</td>\n",
              "      <td>Dinner</td>\n",
              "      <td>4</td>\n",
              "    </tr>\n",
              "    <tr>\n",
              "      <th>...</th>\n",
              "      <td>...</td>\n",
              "      <td>...</td>\n",
              "      <td>...</td>\n",
              "      <td>...</td>\n",
              "      <td>...</td>\n",
              "      <td>...</td>\n",
              "      <td>...</td>\n",
              "    </tr>\n",
              "    <tr>\n",
              "      <th>239</th>\n",
              "      <td>29.03</td>\n",
              "      <td>5.92</td>\n",
              "      <td>Male</td>\n",
              "      <td>No</td>\n",
              "      <td>Sat</td>\n",
              "      <td>Dinner</td>\n",
              "      <td>3</td>\n",
              "    </tr>\n",
              "    <tr>\n",
              "      <th>240</th>\n",
              "      <td>27.18</td>\n",
              "      <td>2.00</td>\n",
              "      <td>Female</td>\n",
              "      <td>Yes</td>\n",
              "      <td>Sat</td>\n",
              "      <td>Dinner</td>\n",
              "      <td>2</td>\n",
              "    </tr>\n",
              "    <tr>\n",
              "      <th>241</th>\n",
              "      <td>22.67</td>\n",
              "      <td>2.00</td>\n",
              "      <td>Male</td>\n",
              "      <td>Yes</td>\n",
              "      <td>Sat</td>\n",
              "      <td>Dinner</td>\n",
              "      <td>2</td>\n",
              "    </tr>\n",
              "    <tr>\n",
              "      <th>242</th>\n",
              "      <td>17.82</td>\n",
              "      <td>1.75</td>\n",
              "      <td>Male</td>\n",
              "      <td>No</td>\n",
              "      <td>Sat</td>\n",
              "      <td>Dinner</td>\n",
              "      <td>2</td>\n",
              "    </tr>\n",
              "    <tr>\n",
              "      <th>243</th>\n",
              "      <td>18.78</td>\n",
              "      <td>3.00</td>\n",
              "      <td>Female</td>\n",
              "      <td>No</td>\n",
              "      <td>Thur</td>\n",
              "      <td>Dinner</td>\n",
              "      <td>2</td>\n",
              "    </tr>\n",
              "  </tbody>\n",
              "</table>\n",
              "<p>244 rows × 7 columns</p>\n",
              "</div>"
            ],
            "text/plain": [
              "     total_bill   tip     sex smoker   day    time  size\n",
              "0         16.99  1.01  Female     No   Sun  Dinner     2\n",
              "1         10.34  1.66    Male     No   Sun  Dinner     3\n",
              "2         21.01  3.50    Male     No   Sun  Dinner     3\n",
              "3         23.68  3.31    Male     No   Sun  Dinner     2\n",
              "4         24.59  3.61  Female     No   Sun  Dinner     4\n",
              "..          ...   ...     ...    ...   ...     ...   ...\n",
              "239       29.03  5.92    Male     No   Sat  Dinner     3\n",
              "240       27.18  2.00  Female    Yes   Sat  Dinner     2\n",
              "241       22.67  2.00    Male    Yes   Sat  Dinner     2\n",
              "242       17.82  1.75    Male     No   Sat  Dinner     2\n",
              "243       18.78  3.00  Female     No  Thur  Dinner     2\n",
              "\n",
              "[244 rows x 7 columns]"
            ]
          },
          "metadata": {},
          "execution_count": 77
        }
      ],
      "metadata": {}
    },
    {
      "cell_type": "markdown",
      "source": [
        "Generate descriptive statistics include those that summarize the central tendency, dispersion"
      ],
      "metadata": {
        "id": "o2ISqVQrPh5S"
      }
    },
    {
      "cell_type": "code",
      "execution_count": 81,
      "source": [
        "tips.describe()"
      ],
      "outputs": [
        {
          "output_type": "execute_result",
          "data": {
            "text/html": [
              "<div>\n",
              "<style scoped>\n",
              "    .dataframe tbody tr th:only-of-type {\n",
              "        vertical-align: middle;\n",
              "    }\n",
              "\n",
              "    .dataframe tbody tr th {\n",
              "        vertical-align: top;\n",
              "    }\n",
              "\n",
              "    .dataframe thead th {\n",
              "        text-align: right;\n",
              "    }\n",
              "</style>\n",
              "<table border=\"1\" class=\"dataframe\">\n",
              "  <thead>\n",
              "    <tr style=\"text-align: right;\">\n",
              "      <th></th>\n",
              "      <th>total_bill</th>\n",
              "      <th>tip</th>\n",
              "      <th>size</th>\n",
              "    </tr>\n",
              "  </thead>\n",
              "  <tbody>\n",
              "    <tr>\n",
              "      <th>count</th>\n",
              "      <td>244.000000</td>\n",
              "      <td>244.000000</td>\n",
              "      <td>244.000000</td>\n",
              "    </tr>\n",
              "    <tr>\n",
              "      <th>mean</th>\n",
              "      <td>19.785943</td>\n",
              "      <td>2.998279</td>\n",
              "      <td>2.569672</td>\n",
              "    </tr>\n",
              "    <tr>\n",
              "      <th>std</th>\n",
              "      <td>8.902412</td>\n",
              "      <td>1.383638</td>\n",
              "      <td>0.951100</td>\n",
              "    </tr>\n",
              "    <tr>\n",
              "      <th>min</th>\n",
              "      <td>3.070000</td>\n",
              "      <td>1.000000</td>\n",
              "      <td>1.000000</td>\n",
              "    </tr>\n",
              "    <tr>\n",
              "      <th>25%</th>\n",
              "      <td>13.347500</td>\n",
              "      <td>2.000000</td>\n",
              "      <td>2.000000</td>\n",
              "    </tr>\n",
              "    <tr>\n",
              "      <th>50%</th>\n",
              "      <td>17.795000</td>\n",
              "      <td>2.900000</td>\n",
              "      <td>2.000000</td>\n",
              "    </tr>\n",
              "    <tr>\n",
              "      <th>75%</th>\n",
              "      <td>24.127500</td>\n",
              "      <td>3.562500</td>\n",
              "      <td>3.000000</td>\n",
              "    </tr>\n",
              "    <tr>\n",
              "      <th>max</th>\n",
              "      <td>50.810000</td>\n",
              "      <td>10.000000</td>\n",
              "      <td>6.000000</td>\n",
              "    </tr>\n",
              "  </tbody>\n",
              "</table>\n",
              "</div>"
            ],
            "text/plain": [
              "       total_bill         tip        size\n",
              "count  244.000000  244.000000  244.000000\n",
              "mean    19.785943    2.998279    2.569672\n",
              "std      8.902412    1.383638    0.951100\n",
              "min      3.070000    1.000000    1.000000\n",
              "25%     13.347500    2.000000    2.000000\n",
              "50%     17.795000    2.900000    2.000000\n",
              "75%     24.127500    3.562500    3.000000\n",
              "max     50.810000   10.000000    6.000000"
            ]
          },
          "metadata": {},
          "execution_count": 81
        }
      ],
      "metadata": {
        "id": "FyFvmdbJPVg6"
      }
    },
    {
      "cell_type": "markdown",
      "source": [
        "Call the relevant method to calculate pairwise Pearson's r correlation of columns"
      ],
      "metadata": {
        "id": "3yCRK4VJPzRo"
      }
    },
    {
      "cell_type": "code",
      "execution_count": 82,
      "source": [
        "tips.corr()"
      ],
      "outputs": [
        {
          "output_type": "execute_result",
          "data": {
            "text/html": [
              "<div>\n",
              "<style scoped>\n",
              "    .dataframe tbody tr th:only-of-type {\n",
              "        vertical-align: middle;\n",
              "    }\n",
              "\n",
              "    .dataframe tbody tr th {\n",
              "        vertical-align: top;\n",
              "    }\n",
              "\n",
              "    .dataframe thead th {\n",
              "        text-align: right;\n",
              "    }\n",
              "</style>\n",
              "<table border=\"1\" class=\"dataframe\">\n",
              "  <thead>\n",
              "    <tr style=\"text-align: right;\">\n",
              "      <th></th>\n",
              "      <th>total_bill</th>\n",
              "      <th>tip</th>\n",
              "      <th>size</th>\n",
              "    </tr>\n",
              "  </thead>\n",
              "  <tbody>\n",
              "    <tr>\n",
              "      <th>total_bill</th>\n",
              "      <td>1.000000</td>\n",
              "      <td>0.675734</td>\n",
              "      <td>0.598315</td>\n",
              "    </tr>\n",
              "    <tr>\n",
              "      <th>tip</th>\n",
              "      <td>0.675734</td>\n",
              "      <td>1.000000</td>\n",
              "      <td>0.489299</td>\n",
              "    </tr>\n",
              "    <tr>\n",
              "      <th>size</th>\n",
              "      <td>0.598315</td>\n",
              "      <td>0.489299</td>\n",
              "      <td>1.000000</td>\n",
              "    </tr>\n",
              "  </tbody>\n",
              "</table>\n",
              "</div>"
            ],
            "text/plain": [
              "            total_bill       tip      size\n",
              "total_bill    1.000000  0.675734  0.598315\n",
              "tip           0.675734  1.000000  0.489299\n",
              "size          0.598315  0.489299  1.000000"
            ]
          },
          "metadata": {},
          "execution_count": 82
        }
      ],
      "metadata": {
        "id": "qwvGzDU8PGnM"
      }
    }
  ]
}